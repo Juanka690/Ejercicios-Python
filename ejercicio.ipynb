{
  "nbformat": 4,
  "nbformat_minor": 0,
  "metadata": {
    "colab": {
      "name": "ejercicio.ipynb",
      "provenance": [],
      "collapsed_sections": [],
      "authorship_tag": "ABX9TyOcX9x+0Auxgq6z7uNDxZtc",
      "include_colab_link": true
    },
    "kernelspec": {
      "name": "python3",
      "display_name": "Python 3"
    },
    "language_info": {
      "name": "python"
    }
  },
  "cells": [
    {
      "cell_type": "markdown",
      "metadata": {
        "id": "view-in-github",
        "colab_type": "text"
      },
      "source": [
        "<a href=\"https://colab.research.google.com/github/Juanka690/Ejercicios-Python/blob/main/ejercicio.ipynb\" target=\"_parent\"><img src=\"https://colab.research.google.com/assets/colab-badge.svg\" alt=\"Open In Colab\"/></a>"
      ]
    },
    {
      "cell_type": "markdown",
      "source": [
        "INTRODUCCION A LAS NOTEBOOKS EN PYTHON CON COLAB"
      ],
      "metadata": {
        "id": "adCM-33Ygap7"
      }
    },
    {
      "cell_type": "markdown",
      "source": [
        "EJERCICIO SOBRE LISTAS PYTHON"
      ],
      "metadata": {
        "id": "pPydfu5k0xj7"
      }
    },
    {
      "cell_type": "code",
      "source": [
        "lista1 = [1,2,3,4,5,6,7,8,9,10]\n",
        "\n",
        "print(\"Iteracion #1\")\n",
        "print(lista1)\n",
        "i=0\n",
        "\n",
        "while i < 9 :\n",
        "\n",
        "  lista1.append(lista1[0])\n",
        "  lista1.pop(0)\n",
        "  print(\"\")\n",
        "  print(\"Iteracion #\" , lista1[0])\n",
        "  print(lista1) \n",
        "  i += 1"
      ],
      "metadata": {
        "id": "MfP1g5k1gfXy"
      },
      "execution_count": null,
      "outputs": []
    },
    {
      "cell_type": "markdown",
      "source": [
        "EJERCICIO MATRIZ 10X10 Y ENCONTRAR EL NUMERO MAYOR Y MENOR JUNTO CON SUS POSICIONES\n"
      ],
      "metadata": {
        "id": "0DkWU9gO0-Wq"
      }
    },
    {
      "cell_type": "markdown",
      "source": [
        "DECLARAMOS VARIABLES Y EL TAMAÑO DE LA MATRIZ, ADEMAS DE GENERAR LA MATRIZ \n"
      ],
      "metadata": {
        "id": "YuvXqWFrMEBk"
      }
    },
    {
      "cell_type": "code",
      "source": [
        "from random import *\n",
        "\n",
        "fil = 10\n",
        "col = 10\n",
        "posmayor=0\n",
        "posmenos=0\n",
        "\n",
        "a = [[randint(10,99) for i in range (fil)]for j in range(col)]\n",
        "mayor=a[0][0]\n",
        "menor=a[0][0]"
      ],
      "metadata": {
        "id": "XWSLhj9fMKNQ"
      },
      "execution_count": null,
      "outputs": []
    },
    {
      "cell_type": "markdown",
      "source": [
        "AHORA IMPRIMIMOS LA MATRIZ Y HACEMOS LA LOGICA DE ENCONTRAR EL NUMERO MAYOR Y MENOR ,JUNTO CON SU POSICION"
      ],
      "metadata": {
        "id": "y4_Ra0BSMOmw"
      }
    },
    {
      "cell_type": "code",
      "source": [
        "from random import *\n",
        "\n",
        "fil = 10\n",
        "col = 10\n",
        "posmayor=0\n",
        "posmenos=0\n",
        "\n",
        "a = [[randint(10,99) for i in range (fil)]for j in range(col)]\n",
        "mayor=a[0][0]\n",
        "menor=a[0][0]\n",
        "for f in range(fil):\n",
        "  for c in range(col):\n",
        "    print(a[f][c],\"|\",end=\" \")\n",
        "    if a[f][c] > mayor:\n",
        "      mayor = a[f][c]\n",
        "      posmayor= f'{f+1},{c+1}'\n",
        "\n",
        "    if a[f][c] < menor:\n",
        "      menor = a[f][c]\n",
        "      posmenor= f'{f+1},{c+1}'"
      ],
      "metadata": {
        "id": "zkBCrGsLMZdV"
      },
      "execution_count": null,
      "outputs": []
    },
    {
      "cell_type": "markdown",
      "source": [
        "Y PARA FINALIZAR , IMPRIMIMOS EL NUMERO MAYOR Y MENOR, JUNTO CON SU POSICION"
      ],
      "metadata": {
        "id": "rKpevlCuMekh"
      }
    },
    {
      "cell_type": "code",
      "source": [
        "from random import *\n",
        "\n",
        "fil = 10\n",
        "col = 10\n",
        "posmayor=0\n",
        "posmenos=0\n",
        "\n",
        "a = [[randint(10,99) for i in range (fil)]for j in range(col)]\n",
        "mayor=a[0][0]\n",
        "menor=a[0][0]\n",
        "for f in range(fil):\n",
        "  for c in range(col):\n",
        "    print(a[f][c],\"|\",end=\" \")\n",
        "    if a[f][c] > mayor:\n",
        "      mayor = a[f][c]\n",
        "      posmayor= f'{f+1},{c+1}'\n",
        "\n",
        "    if a[f][c] < menor:\n",
        "      menor = a[f][c]\n",
        "      posmenor= f'{f+1},{c+1}'\n",
        "\n",
        "  print()\n",
        "\n",
        "print('El mayor es: ', mayor, ' Y se encuentra en la posición: ',posmayor)\n",
        "print('El menor es: ', menor, ' Y se encuentra en la posición: ',posmenor)\n"
      ],
      "metadata": {
        "id": "aExP9d-o1BYy"
      },
      "execution_count": null,
      "outputs": []
    },
    {
      "cell_type": "markdown",
      "source": [
        "EJERCICIO SUMA DE COLUMNAS DE MATRIZ 10X10 DE NUMEROS ALEATORIOS"
      ],
      "metadata": {
        "id": "9O4xQSacNHEB"
      }
    },
    {
      "cell_type": "markdown",
      "source": [
        "GENERAMOS LA MATRIZ Y LA IMPRIMIMOS"
      ],
      "metadata": {
        "id": "pccvDOYVNY4f"
      }
    },
    {
      "cell_type": "code",
      "source": [
        "from random import *\n",
        "\n",
        "fil = 10\n",
        "col = 10\n",
        "\n",
        "a = [[randint(10,99) for i in range (fil)]for j in range(col)]\n",
        "\n",
        "for f in range(fil):\n",
        "  for c in range(col):\n",
        "    print(a[f][c],\"|\",end=\" \")\n",
        "\n",
        "  print()"
      ],
      "metadata": {
        "id": "YNN5DzwtNNa1"
      },
      "execution_count": null,
      "outputs": []
    },
    {
      "cell_type": "markdown",
      "source": [
        "AHORA HACEMOS LA LOGICA DE LA SUMA DE LAS COLUMNAS Y IMPRIMIMOS LA SUMA"
      ],
      "metadata": {
        "id": "3mM7C6swOoBM"
      }
    },
    {
      "cell_type": "code",
      "source": [
        "for x in range(fil):\n",
        "  sumColum = 1\n",
        "  for yy in range (col):\n",
        "    \n",
        "    sumColum += a[yy][x]\n",
        "\n",
        "  print(\"La suma de la columna \" , x+1 , \" es: \" , sumColum)\n"
      ],
      "metadata": {
        "id": "VXkEOp_sOrdx"
      },
      "execution_count": null,
      "outputs": []
    },
    {
      "cell_type": "markdown",
      "source": [
        "NOS QUEDARIA ALGO ASI"
      ],
      "metadata": {
        "id": "C64puRGOO56l"
      }
    },
    {
      "cell_type": "code",
      "source": [
        "from random import *\n",
        "\n",
        "fil = 10\n",
        "col = 10\n",
        "\n",
        "a = [[randint(10,99) for i in range (fil)]for j in range(col)]\n",
        "\n",
        "for f in range(fil):\n",
        "  for c in range(col):\n",
        "    print(a[f][c],\"|\",end=\" \")\n",
        "\n",
        "  print()\n",
        "\n",
        "for x in range(fil):\n",
        "  sumColum = 1\n",
        "  for yy in range (col):\n",
        "    \n",
        "    sumColum += a[yy][x]\n",
        "\n",
        "  print(\"La suma de la columna \" , x+1 , \" es: \" , sumColum)\n"
      ],
      "metadata": {
        "id": "11ex8YyqO8kR"
      },
      "execution_count": null,
      "outputs": []
    }
  ]
}